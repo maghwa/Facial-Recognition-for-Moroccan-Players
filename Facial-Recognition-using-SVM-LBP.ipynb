{
 "cells": [
  {
   "cell_type": "markdown",
   "id": "9f45beb5",
   "metadata": {},
   "source": [
    "Etudiante : Marwa El Kamil\n",
    "\n",
    "**Reconnaissance Faciale des Joueurs Marocains de Football - SVM et LBP**\n",
    "\n",
    "**Description :**\n",
    "\n",
    "Ce notebook est dédié à la mise en œuvre d'un système de reconnaissance faciale pour identifier les joueurs marocains de football. Nous utilisons deux techniques clés : les Machines à Vecteurs de Support (SVM) pour la classification et le Local Binary Patterns (LBP) pour l'extraction des caractéristiques. \n",
    "\n",
    "**Contenu :**\n",
    "\n",
    "1. **Introduction et Objectifs** : Présentation du projet, des techniques utilisées (SVM et LBP), et de l'importance de la reconnaissance faciale dans le domaine sportif.\n",
    "\n",
    "2. **Collecte et Préparation des Données** : Description de la méthode de collecte des images des joueurs, leur prétraitement, et leur organisation pour l'entraînement.\n",
    "\n",
    "3. **Extraction des Caractéristiques avec LBP** : Explication du Local Binary Patterns, une méthode puissante pour l'extraction des caractéristiques faciales, suivi de sa mise en œuvre pour préparer les données pour le modèle SVM.\n",
    "\n",
    "4. **Modélisation avec SVM** : Construction et entraînement du modèle de Machine à Vecteurs de Support. Description des paramètres du modèle, de la validation croisée, et des méthodes d'optimisation utilisées.\n",
    "\n",
    "5. **Évaluation et Résultats** : Méthodologie pour tester le modèle sur un ensemble de données de test, présentation des résultats obtenus, et comparaison avec d'autres méthodes de reconnaissance faciale si pertinent.\n",
    "\n",
    "6. **Conclusion et Perspectives** : Synthèse des résultats, discussion sur les limites de l'approche actuelle, et suggestions pour des travaux futurs.\n",
    "\n",
    "**Technologies Utilisées** : Python, OpenCV pour le traitement d'image, scikit-learn pour l'implémentation du SVM, et autres bibliothèques utiles.\n",
    "\n",
    "**Résultats Attendus** : Le but est de développer un modèle capable d'identifier avec précision les joueurs marocains de football à partir de leurs images, en exploitant les puissances combinées des SVM et LBP.\n"
   ]
  },
  {
   "cell_type": "markdown",
   "id": "16759155",
   "metadata": {},
   "source": [
    "### Import des librairies et packages:"
   ]
  },
  {
   "cell_type": "code",
   "execution_count": 62,
   "id": "86ea9b2f",
   "metadata": {},
   "outputs": [],
   "source": [
    "import tensorflow as tf\n",
    "from tensorflow import keras\n",
    "import matplotlib.pyplot as plt\n",
    "import numpy as np\n",
    "from imutils import paths\n",
    "from pathlib import Path\n",
    "import numpy as np\n",
    "import imutils\n",
    "import cv2\n",
    "import os"
   ]
  },
  {
   "cell_type": "code",
   "execution_count": 63,
   "id": "ac4d6fd0",
   "metadata": {},
   "outputs": [],
   "source": [
    "def loadNewBD(inputPath):\n",
    "    # Récupération des chemins de toutes les images dans le répertoire donné\n",
    "    imagePaths = list(paths.list_images(inputPath))\n",
    "   \n",
    "    # Initialisation de listes pour stocker les visages et les étiquettes (labels)\n",
    "    faces = list()\n",
    "    labels = list()\n",
    " \n",
    "    # Parcourir chaque chemin d'image\n",
    "    for imagePath in imagePaths:\n",
    "        # Lire l'image et récupérer le label (étiquette) de l'image\n",
    "        # Le label est généralement dérivé du nom de fichier\n",
    "        image = cv2.imread(imagePath) # Lire l'image à l'aide de OpenCV\n",
    "        name = Path(imagePath).stem   # Extraire le nom de fichier sans extension comme label\n",
    "\n",
    "        # Ajouter l'image et son label respectif aux listes\n",
    "        faces.append(image) # Ajouter l'image à la liste des visages\n",
    "        labels.append(name) # Ajouter le label à la liste des labels\n",
    "\n",
    "    # Convertir les listes de visages et de labels en tableaux NumPy pour un traitement ultérieur\n",
    "    faces = np.array(faces)\n",
    "    labels = np.array(labels)\n",
    "\n",
    "    # Retourner le tuple contenant les visages et les labels\n",
    "    return (faces, labels)"
   ]
  },
  {
   "cell_type": "markdown",
   "id": "8c5ca6e0",
   "metadata": {},
   "source": [
    "cette fonction \"loadNewBD\" qui prend un chemin vers un dossier contenant des images. Il lit chaque image, extrait son nom comme label, et stocke les images et leurs labels respectifs dans des listes, qui sont ensuite converties en tableaux NumPy avant d'être retournées. Cette fonction est utile pour charger des données d'image pour des tâches de reconnaissance ou de traitement d'image."
   ]
  },
  {
   "cell_type": "code",
   "execution_count": 64,
   "id": "145d196a",
   "metadata": {},
   "outputs": [],
   "source": [
    "(visages, names) = loadNewBD(\"data_players\")"
   ]
  },
  {
   "cell_type": "code",
   "execution_count": 65,
   "id": "e0faa056",
   "metadata": {},
   "outputs": [
    {
     "data": {
      "text/plain": [
       "array(['Walid Reguragui_215', 'Anass Zeroury_127', 'Anass Zeroury_133',\n",
       "       'saiss_193', 'saiss_187', 'boukhlal_153', 'boukhlal_147',\n",
       "       'boukhlal_146', 'boukhlal_152', 'saiss_186', 'saiss_192',\n",
       "       'Anass Zeroury_132', 'Anass Zeroury_126', 'Walid Reguragui_214',\n",
       "       'Walid Reguragui_216', 'Anass Zeroury_130', 'Anass Zeroury_124',\n",
       "       'Anass Zeroury_118', 'saiss_184', 'saiss_190', 'aguerd_109',\n",
       "       'boukhlal_144', 'boukhlal_150', 'boukhlal_151', 'boukhlal_145',\n",
       "       'aguerd_108', 'saiss_191', 'saiss_185', 'Anass Zeroury_119',\n",
       "       'Anass Zeroury_125', 'Anass Zeroury_131', 'Walid Reguragui_217',\n",
       "       'Walid Reguragui_207', 'Walid Reguragui_213', 'Anass Zeroury_135',\n",
       "       'Anass Zeroury_121', 'saiss_195', 'boukhlal_141', 'boukhlal_155',\n",
       "       'boukhlal_154', 'boukhlal_140', 'saiss_194', 'Anass Zeroury_120',\n",
       "       'Anass Zeroury_134', 'Walid Reguragui_212', 'Walid Reguragui_206',\n",
       "       'Walid Reguragui_210', 'Anass Zeroury_122', 'Anass Zeroury_136',\n",
       "       'saiss_196', 'boukhlal_156', 'boukhlal_142', 'boukhlal_143',\n",
       "       'saiss_197', 'Anass Zeroury_123', 'Walid Reguragui_211',\n",
       "       'YassineBono_230', 'photo hakimi_169', 'photo hakimi_182',\n",
       "       'photo hakimi_183', 'photo hakimi_168', 'YassineBono_231',\n",
       "       'YassineBono_233', 'YassineBono_227', 'photo hakimi_181',\n",
       "       'photo hakimi_180', 'photo hakimi_157', 'YassineBono_232',\n",
       "       'YassineBono_236', 'boukhlal_137', 'YassineBono_237',\n",
       "       'YassineBono_235', 'photo hakimi_178', 'photo hakimi_179',\n",
       "       'YassineBono_234', 'photo hakimi_174', 'photo hakimi_160',\n",
       "       'boukhlal_139', 'boukhlal_138', 'photo hakimi_161',\n",
       "       'photo hakimi_175', 'YassineBono_238', 'photo hakimi_163',\n",
       "       'photo hakimi_177', 'photo hakimi_176', 'photo hakimi_162',\n",
       "       'photo hakimi_166', 'photo hakimi_172', 'photo hakimi_173',\n",
       "       'photo hakimi_167', 'YassineBono_228', 'photo hakimi_159',\n",
       "       'photo hakimi_171', 'photo hakimi_165', 'photo hakimi_164',\n",
       "       'photo hakimi_170', 'photo hakimi_158', 'YassineBono_229',\n",
       "       'Walid Reguragui_220', 'Walid Reguragui_208', 'aguerd_103',\n",
       "       'aguerd_102', 'Walid Reguragui_209', 'Walid Reguragui_221',\n",
       "       'saiss_204', 'saiss_199', 'aguerd_100', 'aguerd_114', 'aguerd_101',\n",
       "       'saiss_198', 'Walid Reguragui_222', 'saiss_205', 'saiss_201',\n",
       "       'Walid Reguragui_226', 'Anass Zeroury_128', 'saiss_188',\n",
       "       'aguerd_105', 'aguerd_111', 'boukhlal_148', 'aguerd_110',\n",
       "       'aguerd_104', 'saiss_189', 'Anass Zeroury_115',\n",
       "       'Anass Zeroury_129', 'saiss_200', 'saiss_202',\n",
       "       'Walid Reguragui_219', 'Walid Reguragui_225', 'Anass Zeroury_117',\n",
       "       'aguerd_112', 'aguerd_106', 'aguerd_107', 'aguerd_113',\n",
       "       'Anass Zeroury_116', 'Walid Reguragui_224', 'saiss_203'],\n",
       "      dtype='<U19')"
      ]
     },
     "execution_count": 65,
     "metadata": {},
     "output_type": "execute_result"
    }
   ],
   "source": [
    "names"
   ]
  },
  {
   "cell_type": "code",
   "execution_count": 66,
   "id": "812a7313",
   "metadata": {},
   "outputs": [
    {
     "data": {
      "text/plain": [
       "<matplotlib.image.AxesImage at 0x28ba73b90>"
      ]
     },
     "execution_count": 66,
     "metadata": {},
     "output_type": "execute_result"
    },
    {
     "data": {
      "image/png": "[encoded data removed]",
      "text/plain": [
       "<Figure size 640x480 with 1 Axes>"
      ]
     },
     "metadata": {},
     "output_type": "display_data"
    }
   ],
   "source": [
    " plt.imshow(visages[20], cmap = 'gray')"
   ]
  },
  {
   "cell_type": "code",
   "execution_count": 67,
   "id": "6ffbfb5b",
   "metadata": {},
   "outputs": [],
   "source": [
    "def extractingLabels(names):\n",
    "    # Initialisation d'une liste vide pour les labels\n",
    "    labels = []\n",
    "\n",
    "    # Parcourir chaque nom dans la liste des noms\n",
    "    for name in names:\n",
    "        # Extraire le label en retirant les trois derniers caractères\n",
    "        # et ajouter ce label à la liste des labels\n",
    "        labels.append(name[:len(name)-3])\n",
    "\n",
    "    # Convertir la liste des labels en un tableau NumPy\n",
    "    labels = np.array(labels)\n",
    "\n",
    "    # Retourner le tableau des labels\n",
    "    return labels\n"
   ]
  },
  {
   "cell_type": "markdown",
   "id": "dadab978",
   "metadata": {},
   "source": [
    "La fonction extractingLabels prend en entrée une liste de noms et extrait des étiquettes (labels) en retirant les trois derniers caractères de chaque nom."
   ]
  },
  {
   "cell_type": "code",
   "execution_count": 68,
   "id": "176731a0",
   "metadata": {},
   "outputs": [
    {
     "data": {
      "text/plain": [
       "array(['Walid Reguragui_', 'Anass Zeroury_', 'Anass Zeroury_', 'saiss_',\n",
       "       'saiss_', 'boukhlal_', 'boukhlal_', 'boukhlal_', 'boukhlal_',\n",
       "       'saiss_', 'saiss_', 'Anass Zeroury_', 'Anass Zeroury_',\n",
       "       'Walid Reguragui_', 'Walid Reguragui_', 'Anass Zeroury_',\n",
       "       'Anass Zeroury_', 'Anass Zeroury_', 'saiss_', 'saiss_', 'aguerd_',\n",
       "       'boukhlal_', 'boukhlal_', 'boukhlal_', 'boukhlal_', 'aguerd_',\n",
       "       'saiss_', 'saiss_', 'Anass Zeroury_', 'Anass Zeroury_',\n",
       "       'Anass Zeroury_', 'Walid Reguragui_', 'Walid Reguragui_',\n",
       "       'Walid Reguragui_', 'Anass Zeroury_', 'Anass Zeroury_', 'saiss_',\n",
       "       'boukhlal_', 'boukhlal_', 'boukhlal_', 'boukhlal_', 'saiss_',\n",
       "       'Anass Zeroury_', 'Anass Zeroury_', 'Walid Reguragui_',\n",
       "       'Walid Reguragui_', 'Walid Reguragui_', 'Anass Zeroury_',\n",
       "       'Anass Zeroury_', 'saiss_', 'boukhlal_', 'boukhlal_', 'boukhlal_',\n",
       "       'saiss_', 'Anass Zeroury_', 'Walid Reguragui_', 'YassineBono_',\n",
       "       'photo hakimi_', 'photo hakimi_', 'photo hakimi_', 'photo hakimi_',\n",
       "       'YassineBono_', 'YassineBono_', 'YassineBono_', 'photo hakimi_',\n",
       "       'photo hakimi_', 'photo hakimi_', 'YassineBono_', 'YassineBono_',\n",
       "       'boukhlal_', 'YassineBono_', 'YassineBono_', 'photo hakimi_',\n",
       "       'photo hakimi_', 'YassineBono_', 'photo hakimi_', 'photo hakimi_',\n",
       "       'boukhlal_', 'boukhlal_', 'photo hakimi_', 'photo hakimi_',\n",
       "       'YassineBono_', 'photo hakimi_', 'photo hakimi_', 'photo hakimi_',\n",
       "       'photo hakimi_', 'photo hakimi_', 'photo hakimi_', 'photo hakimi_',\n",
       "       'photo hakimi_', 'YassineBono_', 'photo hakimi_', 'photo hakimi_',\n",
       "       'photo hakimi_', 'photo hakimi_', 'photo hakimi_', 'photo hakimi_',\n",
       "       'YassineBono_', 'Walid Reguragui_', 'Walid Reguragui_', 'aguerd_',\n",
       "       'aguerd_', 'Walid Reguragui_', 'Walid Reguragui_', 'saiss_',\n",
       "       'saiss_', 'aguerd_', 'aguerd_', 'aguerd_', 'saiss_',\n",
       "       'Walid Reguragui_', 'saiss_', 'saiss_', 'Walid Reguragui_',\n",
       "       'Anass Zeroury_', 'saiss_', 'aguerd_', 'aguerd_', 'boukhlal_',\n",
       "       'aguerd_', 'aguerd_', 'saiss_', 'Anass Zeroury_', 'Anass Zeroury_',\n",
       "       'saiss_', 'saiss_', 'Walid Reguragui_', 'Walid Reguragui_',\n",
       "       'Anass Zeroury_', 'aguerd_', 'aguerd_', 'aguerd_', 'aguerd_',\n",
       "       'Anass Zeroury_', 'Walid Reguragui_', 'saiss_'], dtype='<U16')"
      ]
     },
     "execution_count": 68,
     "metadata": {},
     "output_type": "execute_result"
    }
   ],
   "source": [
    "Labels = extractingLabels(names)\n",
    "Labels"
   ]
  },
  {
   "cell_type": "code",
   "execution_count": 69,
   "id": "e84e05d7",
   "metadata": {},
   "outputs": [],
   "source": [
    "from sklearn.preprocessing import LabelEncoder\n",
    "\n",
    "def encode(labels):\n",
    "    # Créer une instance de LabelEncoder\n",
    "    le = LabelEncoder()\n",
    "\n",
    "    # Ajuster le LabelEncoder aux étiquettes fournies et les transformer\n",
    "    # Cela convertit les étiquettes en valeurs numériques\n",
    "    labels = le.fit_transform(labels)\n",
    "\n",
    "    # Retourner les étiquettes transformées\n",
    "    return labels\n"
   ]
  },
  {
   "cell_type": "markdown",
   "id": "a8848558",
   "metadata": {},
   "source": [
    "LabelEncoder : Cette classe de scikit-learn est utilisée pour transformer des étiquettes non numériques (comme des noms de catégories) en valeurs numériques. Ceci est souvent nécessaire dans le traitement de données, car de nombreux algorithmes de machine learning préfèrent travailler avec des données numériques.\n",
    "fit_transform() : Cette méthode ajuste le modèle LabelEncoder aux données fournies et, en même temps, transforme les étiquettes en valeurs numériques. Chaque classe unique se voit attribuer un entier unique."
   ]
  },
  {
   "cell_type": "code",
   "execution_count": 70,
   "id": "67aade9b",
   "metadata": {},
   "outputs": [
    {
     "data": {
      "text/plain": [
       "array([1, 0, 0, 6, 6, 4, 4, 4, 4, 6, 6, 0, 0, 1, 1, 0, 0, 0, 6, 6, 3, 4,\n",
       "       4, 4, 4, 3, 6, 6, 0, 0, 0, 1, 1, 1, 0, 0, 6, 4, 4, 4, 4, 6, 0, 0,\n",
       "       1, 1, 1, 0, 0, 6, 4, 4, 4, 6, 0, 1, 2, 5, 5, 5, 5, 2, 2, 2, 5, 5,\n",
       "       5, 2, 2, 4, 2, 2, 5, 5, 2, 5, 5, 4, 4, 5, 5, 2, 5, 5, 5, 5, 5, 5,\n",
       "       5, 5, 2, 5, 5, 5, 5, 5, 5, 2, 1, 1, 3, 3, 1, 1, 6, 6, 3, 3, 3, 6,\n",
       "       1, 6, 6, 1, 0, 6, 3, 3, 4, 3, 3, 6, 0, 0, 6, 6, 1, 1, 0, 3, 3, 3,\n",
       "       3, 0, 1, 6])"
      ]
     },
     "execution_count": 70,
     "metadata": {},
     "output_type": "execute_result"
    }
   ],
   "source": [
    "labels = encode(Labels)\n",
    "labels"
   ]
  },
  {
   "cell_type": "code",
   "execution_count": 71,
   "id": "1a967419",
   "metadata": {},
   "outputs": [],
   "source": [
    "from skimage import feature\n",
    "import cv2\n",
    "\n",
    "def LBP(face):\n",
    "    # Convertir l'image de visage en niveaux de gris\n",
    "    # car LBP travaille généralement sur des images en niveaux de gris\n",
    "    face = cv2.cvtColor(face, cv2.COLOR_BGR2GRAY)\n",
    "\n",
    "    # Appliquer le Local Binary Pattern à l'image\n",
    "    # Le paramètre 16 indique le nombre de points de voisinage\n",
    "    # Le paramètre 2 représente le rayon du LBP\n",
    "    lbp = feature.local_binary_pattern(face, 16, 2)\n",
    "\n",
    "    # Retourner l'image transformée par LBP\n",
    "    return lbp\n"
   ]
  },
  {
   "cell_type": "code",
   "execution_count": 72,
   "id": "7b79b634",
   "metadata": {},
   "outputs": [
    {
     "data": {
      "text/plain": [
       "<matplotlib.image.AxesImage at 0x28ba99810>"
      ]
     },
     "execution_count": 72,
     "metadata": {},
     "output_type": "execute_result"
    },
    {
     "data": {
      "image/png": "[encoded data removed]",
      "text/plain": [
       "<Figure size 640x480 with 1 Axes>"
      ]
     },
     "metadata": {},
     "output_type": "display_data"
    }
   ],
   "source": [
    "im = LBP(visages[20])\n",
    "plt.imshow(im, cmap = 'gray')"
   ]
  },
  {
   "cell_type": "code",
   "execution_count": 73,
   "id": "ece85c61",
   "metadata": {},
   "outputs": [],
   "source": [
    "def extractLBPBD(faces):\n",
    "    # Initialiser une liste pour stocker les caractéristiques LBP des visages\n",
    "    facesLBP = []\n",
    "\n",
    "    # Parcourir chaque visage dans la liste fournie\n",
    "    for i in range(len(faces)):\n",
    "        # Appliquer la fonction LBP sur le visage actuel\n",
    "        lbp = LBP(faces[i])\n",
    "\n",
    "        # Ajouter les caractéristiques LBP du visage à la liste\n",
    "        facesLBP.append(lbp)\n",
    "\n",
    "    # Convertir la liste des caractéristiques LBP en un tableau NumPy\n",
    "    facesLBP = np.array(facesLBP)\n",
    "\n",
    "    # Retourner le tableau des caractéristiques LBP\n",
    "    return facesLBP\n"
   ]
  },
  {
   "cell_type": "markdown",
   "id": "c2b3a715",
   "metadata": {},
   "source": [
    "La fonction \"extractLBPBD\" prend une liste d'images de visages (faces) et applique la fonction LBP à chacune d'elles pour extraire leurs caractéristiques en utilisant le Local Binary Pattern (LBP). Ensuite, elle retourne un tableau NumPy contenant toutes les images de visages transformées par LBP"
   ]
  },
  {
   "cell_type": "code",
   "execution_count": 74,
   "id": "f7df8eda",
   "metadata": {},
   "outputs": [],
   "source": [
    "faces = extractLBPBD(visages)"
   ]
  },
  {
   "cell_type": "code",
   "execution_count": 75,
   "id": "afcbf832",
   "metadata": {},
   "outputs": [],
   "source": [
    "from sklearn.model_selection import train_test_split\n",
    "\n",
    "def split(faces, labels):\n",
    "    # Diviser l'ensemble des données et des labels en sous-ensembles d'entraînement et de test\n",
    "    # Le paramètre test_size=0.20 indique que 20% des données seront utilisées pour le test\n",
    "    # shuffle=True assure que les données sont mélangées avant la séparation\n",
    "    # stratify=labels assure que la distribution des labels est similaire dans les sous-ensembles d'entraînement et de test\n",
    "    x_train, x_test, y_train, y_test = train_test_split(faces, labels, test_size=0.20, shuffle=True, stratify=labels)\n",
    "\n",
    "    # Retourner les sous-ensembles d'entraînement et de test\n",
    "    return x_train, x_test, y_train, y_test\n"
   ]
  },
  {
   "cell_type": "code",
   "execution_count": 76,
   "id": "31119af1",
   "metadata": {},
   "outputs": [],
   "source": [
    "x_train , x_test , y_train , y_test = split(faces,labels)"
   ]
  },
  {
   "cell_type": "code",
   "execution_count": 77,
   "id": "994a33e3",
   "metadata": {},
   "outputs": [
    {
     "name": "stdout",
     "output_type": "stream",
     "text": [
      "(108, 100, 100)\n",
      "(28, 100, 100)\n",
      "(108,)\n",
      "(28,)\n"
     ]
    }
   ],
   "source": [
    "print(x_train.shape)\n",
    "print(x_test.shape)\n",
    "print(y_train.shape)\n",
    "print(y_test.shape)"
   ]
  },
  {
   "cell_type": "code",
   "execution_count": 78,
   "id": "9c6ae35f",
   "metadata": {},
   "outputs": [],
   "source": [
    "x_train = x_train /255\n",
    "x_test = x_test/ 255"
   ]
  },
  {
   "cell_type": "code",
   "execution_count": 79,
   "id": "0be843bd",
   "metadata": {},
   "outputs": [],
   "source": [
    "nsamples, nx, ny = x_train.shape\n",
    "x_train = x_train.reshape((nsamples,nx*ny))\n"
   ]
  },
  {
   "cell_type": "code",
   "execution_count": 80,
   "id": "bc00fa18",
   "metadata": {},
   "outputs": [],
   "source": [
    "nsamples2, nx2, ny2 = x_test.shape\n",
    "x_test = x_test.reshape((nsamples2,nx2*ny2))"
   ]
  },
  {
   "cell_type": "code",
   "execution_count": 81,
   "id": "673d2f7b",
   "metadata": {},
   "outputs": [
    {
     "name": "stderr",
     "output_type": "stream",
     "text": [
      "/Users/marwa/anaconda3/lib/python3.11/site-packages/sklearn/svm/_classes.py:32: FutureWarning: The default value of `dual` will change from `True` to `'auto'` in 1.5. Set the value of `dual` explicitly to suppress the warning.\n",
      "  warnings.warn(\n"
     ]
    },
    {
     "data": {
      "text/html": [
       "<style>#sk-container-id-7 {color: black;}#sk-container-id-7 pre{padding: 0;}#sk-container-id-7 div.sk-toggleable {background-color: white;}#sk-container-id-7 label.sk-toggleable__label {cursor: pointer;display: block;width: 100%;margin-bottom: 0;padding: 0.3em;box-sizing: border-box;text-align: center;}#sk-container-id-7 label.sk-toggleable__label-arrow:before {content: \"▸\";float: left;margin-right: 0.25em;color: #696969;}#sk-container-id-7 label.sk-toggleable__label-arrow:hover:before {color: black;}#sk-container-id-7 div.sk-estimator:hover label.sk-toggleable__label-arrow:before {color: black;}#sk-container-id-7 div.sk-toggleable__content {max-height: 0;max-width: 0;overflow: hidden;text-align: left;background-color: #f0f8ff;}#sk-container-id-7 div.sk-toggleable__content pre {margin: 0.2em;color: black;border-radius: 0.25em;background-color: #f0f8ff;}#sk-container-id-7 input.sk-toggleable__control:checked~div.sk-toggleable__content {max-height: 200px;max-width: 100%;overflow: auto;}#sk-container-id-7 input.sk-toggleable__control:checked~label.sk-toggleable__label-arrow:before {content: \"▾\";}#sk-container-id-7 div.sk-estimator input.sk-toggleable__control:checked~label.sk-toggleable__label {background-color: #d4ebff;}#sk-container-id-7 div.sk-label input.sk-toggleable__control:checked~label.sk-toggleable__label {background-color: #d4ebff;}#sk-container-id-7 input.sk-hidden--visually {border: 0;clip: rect(1px 1px 1px 1px);clip: rect(1px, 1px, 1px, 1px);height: 1px;margin: -1px;overflow: hidden;padding: 0;position: absolute;width: 1px;}#sk-container-id-7 div.sk-estimator {font-family: monospace;background-color: #f0f8ff;border: 1px dotted black;border-radius: 0.25em;box-sizing: border-box;margin-bottom: 0.5em;}#sk-container-id-7 div.sk-estimator:hover {background-color: #d4ebff;}#sk-container-id-7 div.sk-parallel-item::after {content: \"\";width: 100%;border-bottom: 1px solid gray;flex-grow: 1;}#sk-container-id-7 div.sk-label:hover label.sk-toggleable__label {background-color: #d4ebff;}#sk-container-id-7 div.sk-serial::before {content: \"\";position: absolute;border-left: 1px solid gray;box-sizing: border-box;top: 0;bottom: 0;left: 50%;z-index: 0;}#sk-container-id-7 div.sk-serial {display: flex;flex-direction: column;align-items: center;background-color: white;padding-right: 0.2em;padding-left: 0.2em;position: relative;}#sk-container-id-7 div.sk-item {position: relative;z-index: 1;}#sk-container-id-7 div.sk-parallel {display: flex;align-items: stretch;justify-content: center;background-color: white;position: relative;}#sk-container-id-7 div.sk-item::before, #sk-container-id-7 div.sk-parallel-item::before {content: \"\";position: absolute;border-left: 1px solid gray;box-sizing: border-box;top: 0;bottom: 0;left: 50%;z-index: -1;}#sk-container-id-7 div.sk-parallel-item {display: flex;flex-direction: column;z-index: 1;position: relative;background-color: white;}#sk-container-id-7 div.sk-parallel-item:first-child::after {align-self: flex-end;width: 50%;}#sk-container-id-7 div.sk-parallel-item:last-child::after {align-self: flex-start;width: 50%;}#sk-container-id-7 div.sk-parallel-item:only-child::after {width: 0;}#sk-container-id-7 div.sk-dashed-wrapped {border: 1px dashed gray;margin: 0 0.4em 0.5em 0.4em;box-sizing: border-box;padding-bottom: 0.4em;background-color: white;}#sk-container-id-7 div.sk-label label {font-family: monospace;font-weight: bold;display: inline-block;line-height: 1.2em;}#sk-container-id-7 div.sk-label-container {text-align: center;}#sk-container-id-7 div.sk-container {/* jupyter's `normalize.less` sets `[hidden] { display: none; }` but bootstrap.min.css set `[hidden] { display: none !important; }` so we also need the `!important` here to be able to override the default hidden behavior on the sphinx rendered scikit-learn.org. See: https://github.com/scikit-learn/scikit-learn/issues/21755 */display: inline-block !important;position: relative;}#sk-container-id-7 div.sk-text-repr-fallback {display: none;}</style><div id=\"sk-container-id-7\" class=\"sk-top-container\"><div class=\"sk-text-repr-fallback\"><pre>LinearSVC(C=50.0, random_state=42)</pre><b>In a Jupyter environment, please rerun this cell to show the HTML representation or trust the notebook. <br />On GitHub, the HTML representation is unable to render, please try loading this page with nbviewer.org.</b></div><div class=\"sk-container\" hidden><div class=\"sk-item\"><div class=\"sk-estimator sk-toggleable\"><input class=\"sk-toggleable__control sk-hidden--visually\" id=\"sk-estimator-id-7\" type=\"checkbox\" checked><label for=\"sk-estimator-id-7\" class=\"sk-toggleable__label sk-toggleable__label-arrow\">LinearSVC</label><div class=\"sk-toggleable__content\"><pre>LinearSVC(C=50.0, random_state=42)</pre></div></div></div></div></div>"
      ],
      "text/plain": [
       "LinearSVC(C=50.0, random_state=42)"
      ]
     },
     "execution_count": 81,
     "metadata": {},
     "output_type": "execute_result"
    }
   ],
   "source": [
    "from sklearn.svm import LinearSVC\n",
    "\n",
    "# Création d'une instance de LinearSVC\n",
    "# C=50.0 définit la force de la régularisation\n",
    "# random_state=42 est utilisé pour la reproductibilité des résultats\n",
    "model = LinearSVC(C=50.0, random_state=42)\n",
    "\n",
    "# Entraînement du modèle SVM avec les données d'entraînement\n",
    "# x_train contient les caractéristiques (features) et y_train les labels associés\n",
    "model.fit(x_train, y_train)\n"
   ]
  },
  {
   "cell_type": "code",
   "execution_count": 82,
   "id": "df2b9f54",
   "metadata": {},
   "outputs": [],
   "source": [
    "prediction = model.predict(x_test)"
   ]
  },
  {
   "cell_type": "code",
   "execution_count": 83,
   "id": "090e7b50",
   "metadata": {},
   "outputs": [
    {
     "name": "stdout",
     "output_type": "stream",
     "text": [
      "[4 5 1 5 3 6 5 6 4 5 4 4 5 6 1 5 6 4 5 0 3 3 3 1 0 5 0 4]\n"
     ]
    }
   ],
   "source": [
    "result = print(prediction)"
   ]
  },
  {
   "cell_type": "code",
   "execution_count": 84,
   "id": "05890790",
   "metadata": {},
   "outputs": [
    {
     "data": {
      "text/plain": [
       "0.6071428571428571"
      ]
     },
     "execution_count": 84,
     "metadata": {},
     "output_type": "execute_result"
    }
   ],
   "source": [
    "model.score(x_test, y_test)"
   ]
  },
  {
   "cell_type": "code",
   "execution_count": 85,
   "id": "4239a1de",
   "metadata": {},
   "outputs": [],
   "source": [
    "from sklearn.model_selection import cross_val_score\n",
    "from sklearn.model_selection import LeaveOneOut\n",
    "from sklearn import svm\n",
    "faces = faces/255\n",
    "nsamples3, nx3, ny3 = faces.shape\n",
    "faces = faces.reshape((nsamples3,nx3*ny3))\n",
    "clf = svm.SVC(kernel='linear', C=1, random_state=42)\n",
    "scores = cross_val_score(clf, faces, labels, cv=LeaveOneOut())"
   ]
  },
  {
   "cell_type": "code",
   "execution_count": 86,
   "id": "a2f9704f",
   "metadata": {},
   "outputs": [
    {
     "data": {
      "text/plain": [
       "array([1., 1., 1., 0., 1., 0., 1., 1., 1., 1., 1., 1., 1., 0., 1., 1., 0.,\n",
       "       1., 1., 1., 1., 1., 0., 1., 1., 0., 1., 1., 1., 1., 0., 0., 1., 0.,\n",
       "       1., 0., 0., 1., 1., 0., 1., 1., 0., 0., 1., 1., 0., 1., 1., 1., 0.,\n",
       "       1., 1., 1., 0., 1., 0., 1., 1., 1., 1., 0., 1., 0., 1., 0., 1., 0.,\n",
       "       0., 0., 0., 0., 1., 1., 0., 0., 1., 0., 0., 1., 1., 0., 1., 0., 0.,\n",
       "       1., 1., 1., 0., 1., 0., 1., 1., 1., 1., 1., 0., 0., 0., 1., 1., 1.,\n",
       "       1., 0., 0., 1., 0., 0., 1., 0., 1., 1., 0., 0., 1., 0., 1., 0., 0.,\n",
       "       0., 1., 1., 0., 0., 1., 0., 1., 0., 1., 0., 1., 0., 1., 1., 1., 1.])"
      ]
     },
     "execution_count": 86,
     "metadata": {},
     "output_type": "execute_result"
    }
   ],
   "source": [
    "scores"
   ]
  },
  {
   "cell_type": "code",
   "execution_count": 87,
   "id": "0536bfcb",
   "metadata": {},
   "outputs": [
    {
     "data": {
      "text/plain": [
       "0.5955882352941176"
      ]
     },
     "execution_count": 87,
     "metadata": {},
     "output_type": "execute_result"
    }
   ],
   "source": [
    "scores.mean()"
   ]
  },
  {
   "cell_type": "code",
   "execution_count": 97,
   "id": "771702f1",
   "metadata": {},
   "outputs": [
    {
     "name": "stdout",
     "output_type": "stream",
     "text": [
      "The predicted label for new image is: Zaroury\n"
     ]
    }
   ],
   "source": [
    "labels_map = {\n",
    "    0: 'Zaroury',\n",
    "    1: 'Regueragui',\n",
    "    2: 'Bono',\n",
    "    3: 'Aguerd',\n",
    "    4: 'Boukhlal',\n",
    "    5: 'Hakimi',\n",
    "    6: 'Sais'\n",
    "}\n",
    "new_img2 = cv2.imread('zaroury.jpeg')\n",
    "\n",
    "# Resize and normalize the image\n",
    "new_img2 = LBP(new_img2)\n",
    "new_img2 = cv2.resize(new_img2, (100, 100))\n",
    "new_img2 = new_img2 / 255.\n",
    "\n",
    "# Flatten the image\n",
    "new_img_flattened = new_img2.reshape(1, 100*100)\n",
    "\n",
    "# Use the model to predict the label of the new image\n",
    "predicted_label = model.predict(new_img_flattened)\n",
    "\n",
    "# Get the label with the highest probability\n",
    "predicted_label = np.argmax(predicted_label)\n",
    "original_label = labels_map[predicted_label]\n",
    "print(\"The predicted label for new image is:\",  original_label)"
   ]
  }
 ],
 "metadata": {
  "kernelspec": {
   "display_name": "Python 3 (ipykernel)",
   "language": "python",
   "name": "python3"
  },
  "language_info": {
   "codemirror_mode": {
    "name": "ipython",
    "version": 3
   },
   "file_extension": ".py",
   "mimetype": "text/x-python",
   "name": "python",
   "nbconvert_exporter": "python",
   "pygments_lexer": "ipython3",
   "version": "3.11.4"
  }
 },
 "nbformat": 4,
 "nbformat_minor": 5
}

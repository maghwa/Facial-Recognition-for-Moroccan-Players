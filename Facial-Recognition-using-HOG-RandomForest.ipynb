{
 "cells": [
  {
   "cell_type": "markdown",
   "id": "3913beb0",
   "metadata": {},
   "source": [
    "---\n",
    "\n",
    "**Étudiante :** Marwa El Kamil\n",
    "\n",
    "**Titre :** Reconnaissance Faciale des Joueurs Marocains avec HOG et Random Forest\n",
    "\n",
    "**Introduction :**\n",
    "Ce notebook explore une méthode efficace pour la reconnaissance faciale des joueurs de football marocains en utilisant l'histogramme des orientations de gradient (HOG) pour l'extraction des caractéristiques et le modèle de forêt aléatoire (Random Forest) pour la classification. Cette approche combine les techniques avancées de traitement d'image et d'apprentissage automatique pour une identification précise.\n",
    "\n",
    "**Contenu :**\n",
    "\n",
    "1. **Importation des Bibliothèques** :\n",
    "   - Importation des bibliothèques nécessaires telles que scikit-learn pour Random Forest, skimage pour HOG, et OpenCV pour le traitement d'images.\n",
    "\n",
    "2. **Prétraitement des Données** :\n",
    "   - Chargement des images des joueurs de football marocains.\n",
    "   - Application de la transformation HOG sur chaque image pour extraire les caractéristiques visuelles.\n",
    "   - Normalisation des images pour assurer la cohérence des données.\n",
    "\n",
    "3. **Extraction des Caractéristiques avec HOG** :\n",
    "   - Détail de la procédure d'extraction des caractéristiques à l'aide de HOG.\n",
    "   - Analyse des caractéristiques extraites pour comprendre leur pertinence.\n",
    "\n",
    "4. **Construction et Entraînement du Modèle Random Forest** :\n",
    "   - Création d'un modèle de forêt aléatoire avec un nombre spécifique d'arbres.\n",
    "   - Entraînement du modèle sur les données prétraitées et extraction des caractéristiques HOG.\n",
    "\n",
    "5. **Évaluation du Modèle** :\n",
    "   - Utilisation de techniques d'évaluation comme la matrice de confusion et le rapport de classification pour mesurer la performance du modèle.\n",
    "   - Ajustement des paramètres du modèle pour améliorer la précision.\n",
    "\n",
    "6. **Prédiction et Visualisation** :\n",
    "   - Prédiction des labels des joueurs sur de nouvelles images.\n",
    "   - Visualisation des résultats de la prédiction et comparaison avec les véritables labels.\n"
   ]
  },
  {
   "cell_type": "code",
   "execution_count": 3,
   "id": "950d8a1d",
   "metadata": {},
   "outputs": [],
   "source": [
    "import matplotlib.pyplot as plt\n",
    "import numpy as np\n",
    "from imutils import paths\n",
    "from pathlib import Path\n",
    "import numpy as np\n",
    "import imutils\n",
    "import cv2\n",
    "import os"
   ]
  },
  {
   "cell_type": "code",
   "execution_count": 4,
   "id": "8dd1e093",
   "metadata": {},
   "outputs": [],
   "source": [
    "def loadNewBD(inputPath):\n",
    "    # Récupération des chemins de toutes les images dans le répertoire donné\n",
    "    imagePaths = list(paths.list_images(inputPath))\n",
    "   \n",
    "    # Initialisation de listes pour stocker les visages et les étiquettes (labels)\n",
    "    faces = list()\n",
    "    labels = list()\n",
    " \n",
    "    # Parcourir chaque chemin d'image\n",
    "    for imagePath in imagePaths:\n",
    "        # Lire l'image et récupérer le label (étiquette) de l'image\n",
    "        # Le label est généralement dérivé du nom de fichier\n",
    "        image = cv2.imread(imagePath) # Lire l'image à l'aide de OpenCV\n",
    "        name = Path(imagePath).stem   # Extraire le nom de fichier sans extension comme label\n",
    "\n",
    "        # Ajouter l'image et son label respectif aux listes\n",
    "        faces.append(image) # Ajouter l'image à la liste des visages\n",
    "        labels.append(name) # Ajouter le label à la liste des labels\n",
    "\n",
    "    # Convertir les listes de visages et de labels en tableaux NumPy pour un traitement ultérieur\n",
    "    faces = np.array(faces)\n",
    "    labels = np.array(labels)\n",
    "\n",
    "    # Retourner le tuple contenant les visages et les labels\n",
    "    return (faces, labels)"
   ]
  },
  {
   "cell_type": "markdown",
   "id": "9b943447",
   "metadata": {},
   "source": [
    "cette fonction \"loadNewBD\" qui prend un chemin vers un dossier contenant des images. Il lit chaque image, extrait son nom comme label, et stocke les images et leurs labels respectifs dans des listes, qui sont ensuite converties en tableaux NumPy avant d'être retournées. Cette fonction est utile pour charger des données d'image pour des tâches de reconnaissance ou de traitement d'image."
   ]
  },
  {
   "cell_type": "code",
   "execution_count": 5,
   "id": "6c29b6cd",
   "metadata": {},
   "outputs": [],
   "source": [
    "(visages, names) = loadNewBD(\"data_players\")"
   ]
  },
  {
   "cell_type": "code",
   "execution_count": 6,
   "id": "119e08db",
   "metadata": {},
   "outputs": [
    {
     "data": {
      "text/plain": [
       "array(['Walid Reguragui_215', 'Anass Zeroury_127', 'Anass Zeroury_133',\n",
       "       'saiss_193', 'saiss_187', 'boukhlal_153', 'boukhlal_147',\n",
       "       'boukhlal_146', 'boukhlal_152', 'saiss_186', 'saiss_192',\n",
       "       'Anass Zeroury_132', 'Anass Zeroury_126', 'Walid Reguragui_214',\n",
       "       'Walid Reguragui_216', 'Anass Zeroury_130', 'Anass Zeroury_124',\n",
       "       'Anass Zeroury_118', 'saiss_184', 'saiss_190', 'aguerd_109',\n",
       "       'boukhlal_144', 'boukhlal_150', 'boukhlal_151', 'boukhlal_145',\n",
       "       'aguerd_108', 'saiss_191', 'saiss_185', 'Anass Zeroury_119',\n",
       "       'Anass Zeroury_125', 'Anass Zeroury_131', 'Walid Reguragui_217',\n",
       "       'Walid Reguragui_207', 'Walid Reguragui_213', 'Anass Zeroury_135',\n",
       "       'Anass Zeroury_121', 'saiss_195', 'boukhlal_141', 'boukhlal_155',\n",
       "       'boukhlal_154', 'boukhlal_140', 'saiss_194', 'Anass Zeroury_120',\n",
       "       'Anass Zeroury_134', 'Walid Reguragui_212', 'Walid Reguragui_206',\n",
       "       'Walid Reguragui_210', 'Anass Zeroury_122', 'Anass Zeroury_136',\n",
       "       'saiss_196', 'boukhlal_156', 'boukhlal_142', 'boukhlal_143',\n",
       "       'saiss_197', 'Anass Zeroury_123', 'Walid Reguragui_211',\n",
       "       'YassineBono_230', 'photo hakimi_169', 'photo hakimi_182',\n",
       "       'photo hakimi_183', 'photo hakimi_168', 'YassineBono_231',\n",
       "       'YassineBono_233', 'YassineBono_227', 'photo hakimi_181',\n",
       "       'photo hakimi_180', 'photo hakimi_157', 'YassineBono_232',\n",
       "       'YassineBono_236', 'boukhlal_137', 'YassineBono_237',\n",
       "       'YassineBono_235', 'photo hakimi_178', 'photo hakimi_179',\n",
       "       'YassineBono_234', 'photo hakimi_174', 'photo hakimi_160',\n",
       "       'boukhlal_139', 'boukhlal_138', 'photo hakimi_161',\n",
       "       'photo hakimi_175', 'YassineBono_238', 'photo hakimi_163',\n",
       "       'photo hakimi_177', 'photo hakimi_176', 'photo hakimi_162',\n",
       "       'photo hakimi_166', 'photo hakimi_172', 'photo hakimi_173',\n",
       "       'photo hakimi_167', 'YassineBono_228', 'photo hakimi_159',\n",
       "       'photo hakimi_171', 'photo hakimi_165', 'photo hakimi_164',\n",
       "       'photo hakimi_170', 'photo hakimi_158', 'YassineBono_229',\n",
       "       'Walid Reguragui_220', 'Walid Reguragui_208', 'aguerd_103',\n",
       "       'aguerd_102', 'Walid Reguragui_209', 'Walid Reguragui_221',\n",
       "       'saiss_204', 'saiss_199', 'aguerd_100', 'aguerd_114', 'aguerd_101',\n",
       "       'saiss_198', 'Walid Reguragui_222', 'saiss_205', 'saiss_201',\n",
       "       'Walid Reguragui_226', 'Anass Zeroury_128', 'saiss_188',\n",
       "       'aguerd_105', 'aguerd_111', 'boukhlal_148', 'aguerd_110',\n",
       "       'aguerd_104', 'saiss_189', 'Anass Zeroury_115',\n",
       "       'Anass Zeroury_129', 'saiss_200', 'saiss_202',\n",
       "       'Walid Reguragui_219', 'Walid Reguragui_225', 'Anass Zeroury_117',\n",
       "       'aguerd_112', 'aguerd_106', 'aguerd_107', 'aguerd_113',\n",
       "       'Anass Zeroury_116', 'Walid Reguragui_224', 'saiss_203'],\n",
       "      dtype='<U19')"
      ]
     },
     "execution_count": 6,
     "metadata": {},
     "output_type": "execute_result"
    }
   ],
   "source": [
    "names"
   ]
  },
  {
   "cell_type": "code",
   "execution_count": 7,
   "id": "7f87d251",
   "metadata": {},
   "outputs": [
    {
     "data": {
      "text/plain": [
       "<matplotlib.image.AxesImage at 0x15e187e50>"
      ]
     },
     "execution_count": 7,
     "metadata": {},
     "output_type": "execute_result"
    },
    {
     "data": {
      "image/png": "[encoded data removed]",
      "text/plain": [
       "<Figure size 640x480 with 1 Axes>"
      ]
     },
     "metadata": {},
     "output_type": "display_data"
    }
   ],
   "source": [
    " plt.imshow(visages[20], cmap = 'gray')"
   ]
  },
  {
   "cell_type": "code",
   "execution_count": 8,
   "id": "d0ae2593",
   "metadata": {},
   "outputs": [],
   "source": [
    "def extractingLabels(names):\n",
    "    # Initialisation d'une liste vide pour les labels\n",
    "    labels = []\n",
    "\n",
    "    # Parcourir chaque nom dans la liste des noms\n",
    "    for name in names:\n",
    "        # Extraire le label en retirant les trois derniers caractères\n",
    "        # et ajouter ce label à la liste des labels\n",
    "        labels.append(name[:len(name)-3])\n",
    "\n",
    "    # Convertir la liste des labels en un tableau NumPy\n",
    "    labels = np.array(labels)\n",
    "\n",
    "    # Retourner le tableau des labels\n",
    "    return labels\n"
   ]
  },
  {
   "cell_type": "code",
   "execution_count": 13,
   "id": "04bcf0f2",
   "metadata": {},
   "outputs": [
    {
     "data": {
      "text/plain": [
       "array(['Walid Reguragui_', 'Anass Zeroury_', 'Anass Zeroury_', 'saiss_',\n",
       "       'saiss_', 'boukhlal_', 'boukhlal_', 'boukhlal_', 'boukhlal_',\n",
       "       'saiss_', 'saiss_', 'Anass Zeroury_', 'Anass Zeroury_',\n",
       "       'Walid Reguragui_', 'Walid Reguragui_', 'Anass Zeroury_',\n",
       "       'Anass Zeroury_', 'Anass Zeroury_', 'saiss_', 'saiss_', 'aguerd_',\n",
       "       'boukhlal_', 'boukhlal_', 'boukhlal_', 'boukhlal_', 'aguerd_',\n",
       "       'saiss_', 'saiss_', 'Anass Zeroury_', 'Anass Zeroury_',\n",
       "       'Anass Zeroury_', 'Walid Reguragui_', 'Walid Reguragui_',\n",
       "       'Walid Reguragui_', 'Anass Zeroury_', 'Anass Zeroury_', 'saiss_',\n",
       "       'boukhlal_', 'boukhlal_', 'boukhlal_', 'boukhlal_', 'saiss_',\n",
       "       'Anass Zeroury_', 'Anass Zeroury_', 'Walid Reguragui_',\n",
       "       'Walid Reguragui_', 'Walid Reguragui_', 'Anass Zeroury_',\n",
       "       'Anass Zeroury_', 'saiss_', 'boukhlal_', 'boukhlal_', 'boukhlal_',\n",
       "       'saiss_', 'Anass Zeroury_', 'Walid Reguragui_', 'YassineBono_',\n",
       "       'photo hakimi_', 'photo hakimi_', 'photo hakimi_', 'photo hakimi_',\n",
       "       'YassineBono_', 'YassineBono_', 'YassineBono_', 'photo hakimi_',\n",
       "       'photo hakimi_', 'photo hakimi_', 'YassineBono_', 'YassineBono_',\n",
       "       'boukhlal_', 'YassineBono_', 'YassineBono_', 'photo hakimi_',\n",
       "       'photo hakimi_', 'YassineBono_', 'photo hakimi_', 'photo hakimi_',\n",
       "       'boukhlal_', 'boukhlal_', 'photo hakimi_', 'photo hakimi_',\n",
       "       'YassineBono_', 'photo hakimi_', 'photo hakimi_', 'photo hakimi_',\n",
       "       'photo hakimi_', 'photo hakimi_', 'photo hakimi_', 'photo hakimi_',\n",
       "       'photo hakimi_', 'YassineBono_', 'photo hakimi_', 'photo hakimi_',\n",
       "       'photo hakimi_', 'photo hakimi_', 'photo hakimi_', 'photo hakimi_',\n",
       "       'YassineBono_', 'Walid Reguragui_', 'Walid Reguragui_', 'aguerd_',\n",
       "       'aguerd_', 'Walid Reguragui_', 'Walid Reguragui_', 'saiss_',\n",
       "       'saiss_', 'aguerd_', 'aguerd_', 'aguerd_', 'saiss_',\n",
       "       'Walid Reguragui_', 'saiss_', 'saiss_', 'Walid Reguragui_',\n",
       "       'Anass Zeroury_', 'saiss_', 'aguerd_', 'aguerd_', 'boukhlal_',\n",
       "       'aguerd_', 'aguerd_', 'saiss_', 'Anass Zeroury_', 'Anass Zeroury_',\n",
       "       'saiss_', 'saiss_', 'Walid Reguragui_', 'Walid Reguragui_',\n",
       "       'Anass Zeroury_', 'aguerd_', 'aguerd_', 'aguerd_', 'aguerd_',\n",
       "       'Anass Zeroury_', 'Walid Reguragui_', 'saiss_'], dtype='<U16')"
      ]
     },
     "execution_count": 13,
     "metadata": {},
     "output_type": "execute_result"
    }
   ],
   "source": [
    "Labels = extractingLabels(names)\n",
    "Labels"
   ]
  },
  {
   "cell_type": "markdown",
   "id": "a2bec9bf",
   "metadata": {},
   "source": [
    "La fonction extractingLabels prend en entrée une liste de noms et extrait des étiquettes (labels) en retirant les trois derniers caractères de chaque nom."
   ]
  },
  {
   "cell_type": "code",
   "execution_count": 14,
   "id": "f062bc63",
   "metadata": {},
   "outputs": [],
   "source": [
    "from sklearn.preprocessing import LabelEncoder\n",
    "\n",
    "def encode(labels):\n",
    "    # Créer une instance de LabelEncoder\n",
    "    le = LabelEncoder()\n",
    "\n",
    "    # Ajuster le LabelEncoder aux étiquettes fournies et les transformer\n",
    "    # Cela convertit les étiquettes en valeurs numériques\n",
    "    labels = le.fit_transform(labels)\n",
    "\n",
    "    # Retourner les étiquettes transformées\n",
    "    return labels\n"
   ]
  },
  {
   "cell_type": "markdown",
   "id": "e427998f",
   "metadata": {},
   "source": [
    "LabelEncoder : Cette classe de scikit-learn est utilisée pour transformer des étiquettes non numériques (comme des noms de catégories) en valeurs numériques. Ceci est souvent nécessaire dans le traitement de données, car de nombreux algorithmes de machine learning préfèrent travailler avec des données numériques.\n",
    "fit_transform() : Cette méthode ajuste le modèle LabelEncoder aux données fournies et, en même temps, transforme les étiquettes en valeurs numériques. Chaque classe unique se voit attribuer un entier unique."
   ]
  },
  {
   "cell_type": "code",
   "execution_count": 15,
   "id": "4148b8d3",
   "metadata": {},
   "outputs": [
    {
     "data": {
      "text/plain": [
       "array([1, 0, 0, 6, 6, 4, 4, 4, 4, 6, 6, 0, 0, 1, 1, 0, 0, 0, 6, 6, 3, 4,\n",
       "       4, 4, 4, 3, 6, 6, 0, 0, 0, 1, 1, 1, 0, 0, 6, 4, 4, 4, 4, 6, 0, 0,\n",
       "       1, 1, 1, 0, 0, 6, 4, 4, 4, 6, 0, 1, 2, 5, 5, 5, 5, 2, 2, 2, 5, 5,\n",
       "       5, 2, 2, 4, 2, 2, 5, 5, 2, 5, 5, 4, 4, 5, 5, 2, 5, 5, 5, 5, 5, 5,\n",
       "       5, 5, 2, 5, 5, 5, 5, 5, 5, 2, 1, 1, 3, 3, 1, 1, 6, 6, 3, 3, 3, 6,\n",
       "       1, 6, 6, 1, 0, 6, 3, 3, 4, 3, 3, 6, 0, 0, 6, 6, 1, 1, 0, 3, 3, 3,\n",
       "       3, 0, 1, 6])"
      ]
     },
     "execution_count": 15,
     "metadata": {},
     "output_type": "execute_result"
    }
   ],
   "source": [
    "labels = encode(Labels)\n",
    "labels"
   ]
  },
  {
   "cell_type": "code",
   "execution_count": 16,
   "id": "75644bdf",
   "metadata": {},
   "outputs": [],
   "source": [
    "from skimage.feature import hog\n",
    "from skimage import exposure\n",
    "import cv2\n",
    "\n",
    "def HOG(face):\n",
    "    # Convertir l'image de visage en niveaux de gris\n",
    "    # Le HOG est généralement calculé sur des images en niveaux de gris\n",
    "    face = cv2.cvtColor(face, cv2.COLOR_BGR2GRAY)\n",
    "\n",
    "    # Calculer l'histogramme des orientations de gradient (HOG) pour l'image\n",
    "    # visualize=True permet de retourner l'image du gradient HOG en plus du descripteur\n",
    "    fd, hog_image = hog(face, orientations=9, pixels_per_cell=(8, 8),\n",
    "                        cells_per_block=(2, 2), visualize=True, channel_axis=None)\n",
    "\n",
    "    # Retourner l'image HOG\n",
    "    return hog_image\n"
   ]
  },
  {
   "cell_type": "markdown",
   "id": "b9c73f0a",
   "metadata": {},
   "source": [
    "La fonction HOG est conçue pour calculer l'histogramme des orientations de gradient (HOG) d'une image de visage. Elle utilise la bibliothèque skimage pour cette tâche. "
   ]
  },
  {
   "cell_type": "code",
   "execution_count": 17,
   "id": "d80381d9",
   "metadata": {},
   "outputs": [
    {
     "data": {
      "text/plain": [
       "<matplotlib.image.AxesImage at 0x1735a3190>"
      ]
     },
     "execution_count": 17,
     "metadata": {},
     "output_type": "execute_result"
    },
    {
     "data": {
      "image/png": "[encoded data removed]",
      "text/plain": [
       "<Figure size 640x480 with 1 Axes>"
      ]
     },
     "metadata": {},
     "output_type": "display_data"
    }
   ],
   "source": [
    "im = HOG(visages[20])\n",
    "plt.imshow(im, cmap = 'gray')"
   ]
  },
  {
   "cell_type": "code",
   "execution_count": 18,
   "id": "ac0f37aa",
   "metadata": {},
   "outputs": [],
   "source": [
    "def extractHOGBD(faces):\n",
    "    # Initialiser une liste pour stocker les caractéristiques HOG des visages\n",
    "    facesHOG = []\n",
    "\n",
    "    # Parcourir chaque visage dans la liste fournie\n",
    "    for i in range(len(faces)):\n",
    "        # Appliquer la fonction HOG sur le visage actuel\n",
    "        hog = HOG(faces[i])\n",
    "\n",
    "        # Ajouter les caractéristiques HOG du visage à la liste\n",
    "        facesHOG.append(hog)\n",
    "\n",
    "    # Convertir la liste des caractéristiques HOG en un tableau NumPy\n",
    "    facesHOG = np.array(facesHOG)\n",
    "\n",
    "    # Retourner le tableau des caractéristiques HOG\n",
    "    return facesHOG\n"
   ]
  },
  {
   "cell_type": "markdown",
   "id": "53ec920d",
   "metadata": {},
   "source": [
    "La fonction extractHOGBD vise à appliquer la fonction HOG à chaque image dans un ensemble de données d'images de visages (faces) pour extraire leurs caractéristiques en utilisant l'histogramme des orientations de gradient (HOG). Elle stocke ensuite ces caractéristiques HOG dans un tableau NumPy et le retourne"
   ]
  },
  {
   "cell_type": "code",
   "execution_count": 19,
   "id": "548f0ac3",
   "metadata": {},
   "outputs": [],
   "source": [
    "faces = extractHOGBD(visages)"
   ]
  },
  {
   "cell_type": "code",
   "execution_count": 20,
   "id": "750d79ef",
   "metadata": {},
   "outputs": [],
   "source": [
    "from sklearn.model_selection import train_test_split\n",
    "def split(faces, labels):\n",
    "        x_train , x_test , y_train , y_test = train_test_split(faces , labels , test_size =0.20, shuffle = True, stratify = labels )\n",
    "        return  x_train , x_test , y_train , y_test"
   ]
  },
  {
   "cell_type": "code",
   "execution_count": 21,
   "id": "2c0250e6",
   "metadata": {},
   "outputs": [],
   "source": [
    "x_train , x_test , y_train , y_test = split(faces,labels)"
   ]
  },
  {
   "cell_type": "code",
   "execution_count": 22,
   "id": "fa39da3f",
   "metadata": {},
   "outputs": [
    {
     "name": "stdout",
     "output_type": "stream",
     "text": [
      "(108, 100, 100)\n",
      "(28, 100, 100)\n",
      "(108,)\n",
      "(28,)\n"
     ]
    }
   ],
   "source": [
    "print(x_train.shape)\n",
    "print(x_test.shape)\n",
    "print(y_train.shape)\n",
    "print(y_test.shape)"
   ]
  },
  {
   "cell_type": "code",
   "execution_count": 23,
   "id": "d9a47d7e",
   "metadata": {},
   "outputs": [],
   "source": [
    "x_train = x_train /255\n",
    "x_test = x_test/ 255"
   ]
  },
  {
   "cell_type": "code",
   "execution_count": 24,
   "id": "f7494d23",
   "metadata": {},
   "outputs": [],
   "source": [
    "nsamples, nx, ny = x_train.shape\n",
    "x_train = x_train.reshape((nsamples,nx*ny))"
   ]
  },
  {
   "cell_type": "code",
   "execution_count": 25,
   "id": "96410c84",
   "metadata": {},
   "outputs": [],
   "source": [
    "nsamples2, nx2, ny2 = x_test.shape\n",
    "x_test = x_test.reshape((nsamples2,nx2*ny2))"
   ]
  },
  {
   "cell_type": "code",
   "execution_count": 30,
   "id": "d3144781",
   "metadata": {},
   "outputs": [
    {
     "data": {
      "text/html": [
       "<style>#sk-container-id-2 {color: black;}#sk-container-id-2 pre{padding: 0;}#sk-container-id-2 div.sk-toggleable {background-color: white;}#sk-container-id-2 label.sk-toggleable__label {cursor: pointer;display: block;width: 100%;margin-bottom: 0;padding: 0.3em;box-sizing: border-box;text-align: center;}#sk-container-id-2 label.sk-toggleable__label-arrow:before {content: \"▸\";float: left;margin-right: 0.25em;color: #696969;}#sk-container-id-2 label.sk-toggleable__label-arrow:hover:before {color: black;}#sk-container-id-2 div.sk-estimator:hover label.sk-toggleable__label-arrow:before {color: black;}#sk-container-id-2 div.sk-toggleable__content {max-height: 0;max-width: 0;overflow: hidden;text-align: left;background-color: #f0f8ff;}#sk-container-id-2 div.sk-toggleable__content pre {margin: 0.2em;color: black;border-radius: 0.25em;background-color: #f0f8ff;}#sk-container-id-2 input.sk-toggleable__control:checked~div.sk-toggleable__content {max-height: 200px;max-width: 100%;overflow: auto;}#sk-container-id-2 input.sk-toggleable__control:checked~label.sk-toggleable__label-arrow:before {content: \"▾\";}#sk-container-id-2 div.sk-estimator input.sk-toggleable__control:checked~label.sk-toggleable__label {background-color: #d4ebff;}#sk-container-id-2 div.sk-label input.sk-toggleable__control:checked~label.sk-toggleable__label {background-color: #d4ebff;}#sk-container-id-2 input.sk-hidden--visually {border: 0;clip: rect(1px 1px 1px 1px);clip: rect(1px, 1px, 1px, 1px);height: 1px;margin: -1px;overflow: hidden;padding: 0;position: absolute;width: 1px;}#sk-container-id-2 div.sk-estimator {font-family: monospace;background-color: #f0f8ff;border: 1px dotted black;border-radius: 0.25em;box-sizing: border-box;margin-bottom: 0.5em;}#sk-container-id-2 div.sk-estimator:hover {background-color: #d4ebff;}#sk-container-id-2 div.sk-parallel-item::after {content: \"\";width: 100%;border-bottom: 1px solid gray;flex-grow: 1;}#sk-container-id-2 div.sk-label:hover label.sk-toggleable__label {background-color: #d4ebff;}#sk-container-id-2 div.sk-serial::before {content: \"\";position: absolute;border-left: 1px solid gray;box-sizing: border-box;top: 0;bottom: 0;left: 50%;z-index: 0;}#sk-container-id-2 div.sk-serial {display: flex;flex-direction: column;align-items: center;background-color: white;padding-right: 0.2em;padding-left: 0.2em;position: relative;}#sk-container-id-2 div.sk-item {position: relative;z-index: 1;}#sk-container-id-2 div.sk-parallel {display: flex;align-items: stretch;justify-content: center;background-color: white;position: relative;}#sk-container-id-2 div.sk-item::before, #sk-container-id-2 div.sk-parallel-item::before {content: \"\";position: absolute;border-left: 1px solid gray;box-sizing: border-box;top: 0;bottom: 0;left: 50%;z-index: -1;}#sk-container-id-2 div.sk-parallel-item {display: flex;flex-direction: column;z-index: 1;position: relative;background-color: white;}#sk-container-id-2 div.sk-parallel-item:first-child::after {align-self: flex-end;width: 50%;}#sk-container-id-2 div.sk-parallel-item:last-child::after {align-self: flex-start;width: 50%;}#sk-container-id-2 div.sk-parallel-item:only-child::after {width: 0;}#sk-container-id-2 div.sk-dashed-wrapped {border: 1px dashed gray;margin: 0 0.4em 0.5em 0.4em;box-sizing: border-box;padding-bottom: 0.4em;background-color: white;}#sk-container-id-2 div.sk-label label {font-family: monospace;font-weight: bold;display: inline-block;line-height: 1.2em;}#sk-container-id-2 div.sk-label-container {text-align: center;}#sk-container-id-2 div.sk-container {/* jupyter's `normalize.less` sets `[hidden] { display: none; }` but bootstrap.min.css set `[hidden] { display: none !important; }` so we also need the `!important` here to be able to override the default hidden behavior on the sphinx rendered scikit-learn.org. See: https://github.com/scikit-learn/scikit-learn/issues/21755 */display: inline-block !important;position: relative;}#sk-container-id-2 div.sk-text-repr-fallback {display: none;}</style><div id=\"sk-container-id-2\" class=\"sk-top-container\"><div class=\"sk-text-repr-fallback\"><pre>RandomForestClassifier(random_state=0)</pre><b>In a Jupyter environment, please rerun this cell to show the HTML representation or trust the notebook. <br />On GitHub, the HTML representation is unable to render, please try loading this page with nbviewer.org.</b></div><div class=\"sk-container\" hidden><div class=\"sk-item\"><div class=\"sk-estimator sk-toggleable\"><input class=\"sk-toggleable__control sk-hidden--visually\" id=\"sk-estimator-id-2\" type=\"checkbox\" checked><label for=\"sk-estimator-id-2\" class=\"sk-toggleable__label sk-toggleable__label-arrow\">RandomForestClassifier</label><div class=\"sk-toggleable__content\"><pre>RandomForestClassifier(random_state=0)</pre></div></div></div></div></div>"
      ],
      "text/plain": [
       "RandomForestClassifier(random_state=0)"
      ]
     },
     "execution_count": 30,
     "metadata": {},
     "output_type": "execute_result"
    }
   ],
   "source": [
    "from sklearn.ensemble import RandomForestClassifier\n",
    "\n",
    "# Création du modèle avec 100 arbres\n",
    "# n_estimators=100 spécifie le nombre d'arbres dans la forêt\n",
    "# random_state=0 garantit la reproductibilité des résultats\n",
    "clf = RandomForestClassifier(n_estimators=100, random_state=0)\n",
    "\n",
    "# Entraînement du modèle sur les données\n",
    "# x_train contient les caractéristiques d'entraînement\n",
    "# y_train contient les étiquettes correspondantes\n",
    "clf.fit(x_train, y_train)\n"
   ]
  },
  {
   "cell_type": "code",
   "execution_count": 31,
   "id": "560cf8ac",
   "metadata": {
    "scrolled": true
   },
   "outputs": [
    {
     "data": {
      "text/plain": [
       "1.0"
      ]
     },
     "execution_count": 31,
     "metadata": {},
     "output_type": "execute_result"
    }
   ],
   "source": [
    "clf.score(x_train, y_train)"
   ]
  },
  {
   "cell_type": "code",
   "execution_count": 32,
   "id": "74292c10",
   "metadata": {},
   "outputs": [
    {
     "data": {
      "text/plain": [
       "0.6428571428571429"
      ]
     },
     "execution_count": 32,
     "metadata": {},
     "output_type": "execute_result"
    }
   ],
   "source": [
    "clf.score(x_test, y_test)"
   ]
  },
  {
   "cell_type": "code",
   "execution_count": 33,
   "id": "c1ac3a7a",
   "metadata": {},
   "outputs": [
    {
     "name": "stdout",
     "output_type": "stream",
     "text": [
      "The predicted label for new image is: Zaroury\n"
     ]
    }
   ],
   "source": [
    "labels_map = {\n",
    "    0: 'Zaroury',\n",
    "    1: 'Regueragui',\n",
    "    2: 'Bono',\n",
    "    3: 'Aguerd',\n",
    "    4: 'Boukhlal',\n",
    "    5: 'Hakimi',\n",
    "    6: 'Sais'\n",
    "}\n",
    "new_img2 = cv2.imread('zaroury.jpeg')\n",
    "\n",
    "# Resize and normalize the image\n",
    "new_img2 = HOG(new_img2)\n",
    "new_img2 = cv2.resize(new_img2, (100, 100))\n",
    "new_img2 = new_img2 / 255.\n",
    "\n",
    "# Flatten the image\n",
    "new_img_flattened = new_img2.reshape(1, 100*100)\n",
    "\n",
    "# Use the model to predict the label of the new image\n",
    "predicted_label = clf.predict(new_img_flattened)\n",
    "\n",
    "# Get the label with the highest probability\n",
    "predicted_label = np.argmax(predicted_label)\n",
    "original_label = labels_map[predicted_label]\n",
    "print(\"The predicted label for new image is:\",  original_label)\n",
    "\n"
   ]
  },
  {
   "cell_type": "code",
   "execution_count": 34,
   "id": "f3c12fd5",
   "metadata": {},
   "outputs": [
    {
     "data": {
      "image/png": "[encoded data removed]",
      "text/plain": [
       "<Figure size 1000x700 with 2 Axes>"
      ]
     },
     "metadata": {},
     "output_type": "display_data"
    }
   ],
   "source": [
    "from sklearn.ensemble import RandomForestClassifier\n",
    "from sklearn.metrics import confusion_matrix\n",
    "import matplotlib.pyplot as plt\n",
    "import seaborn as sns  # Pour une visualisation améliorée de la matrice de confusion\n",
    "\n",
    "# Effectuer des prédictions sur l'ensemble de test\n",
    "y_pred = clf.predict(x_test)\n",
    "\n",
    "# Calcul de la matrice de confusion\n",
    "conf_mat = confusion_matrix(y_test, y_pred)\n",
    "\n",
    "# Visualisation de la matrice de confusion\n",
    "plt.figure(figsize=(10, 7))\n",
    "sns.heatmap(conf_mat, annot=True, fmt=\"d\")\n",
    "plt.title(\"Matrice de Confusion\")\n",
    "plt.ylabel('Véritables Étiquettes')\n",
    "plt.xlabel('Étiquettes Prédites')\n",
    "plt.show()\n"
   ]
  },
  {
   "cell_type": "markdown",
   "id": "3fae85d8",
   "metadata": {},
   "source": [
    "La matrice de confusionest un outil utilisé en apprentissage automatique pour évaluer la performance d'un modèle de classification. Chaque ligne de la matrice représente les instances dans une classe réelle, tandis que chaque colonne représente les instances dans une classe prédite. Voici une interprétation de votre matrice :\n",
    "\n",
    "- **Diagonale (de haut à gauche à bas à droite)** : Les valeurs sur la diagonale (3, 4, 1, 2, 3, 6, 3) représentent le nombre de prédictions correctes pour chaque classe. Par exemple, il y a 3 instances correctement prédites pour la classe 0, 4 pour la classe 1, et ainsi de suite jusqu'à 3 prédictions correctes pour la classe 6.\n",
    "\n",
    "- **Hors diagonale** : Les valeurs hors de la diagonale représentent les erreurs de classification. Par exemple, il y a 1 instance de la classe 4 qui a été incorrectement prédite comme appartenant à la classe 0, et 1 instance de la classe 2 qui a été incorrectement prédite comme la classe 4.\n",
    "\n",
    "- **Analyse des erreurs** :\n",
    "   - La classe 5 semble être la mieux prédite avec 6 prédictions correctes et aucune erreur.\n",
    "   - La classe 1 a été parfaitement prédite avec 4 instances correctes et aucune erreur.\n",
    "   - Les classes 2 et 3 semblent être les plus difficiles à prédire correctement, avec un nombre relativement élevé d'erreurs. Par exemple, la classe 2 a été confondue avec la classe 4 une fois et vice versa.\n",
    "\n",
    "- **Performance globale** : Pour évaluer la performance globale du modèle, on peut calculer la précision globale, qui est la somme des valeurs sur la diagonale divisée par le total des prédictions. Cela donne une idée de la capacité du modèle à classer correctement toutes les classes.\n",
    "\n",
    "Cette matrice nous donne des indications précieuses sur les points forts et les faiblesses de votre modèle de classification. Une analyse détaillée des erreurs peut vous aider à comprendre comment améliorer votre modèle, que ce soit par le choix de meilleurs descripteurs, un réglage des hyperparamètres, ou une collecte de données supplémentaires pour les classes mal prédites."
   ]
  }
 ],
 "metadata": {
  "kernelspec": {
   "display_name": "Python 3 (ipykernel)",
   "language": "python",
   "name": "python3"
  },
  "language_info": {
   "codemirror_mode": {
    "name": "ipython",
    "version": 3
   },
   "file_extension": ".py",
   "mimetype": "text/x-python",
   "name": "python",
   "nbconvert_exporter": "python",
   "pygments_lexer": "ipython3",
   "version": "3.11.4"
  }
 },
 "nbformat": 4,
 "nbformat_minor": 5
}
